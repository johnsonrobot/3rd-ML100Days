{
 "cells": [
  {
   "cell_type": "markdown",
   "metadata": {},
   "source": [
    "## 練習時間\n",
    "#### 請寫一個函式用來計算 Mean Square Error\n",
    "$ MSE = \\frac{1}{n}\\sum_{i=1}^{n}{(Y_i - \\hat{Y}_i)^2} $\n",
    "\n",
    "### Hint: [如何取平方](https://googoodesign.gitbooks.io/-ezpython/unit-1.html)"
   ]
  },
  {
   "cell_type": "markdown",
   "metadata": {},
   "source": [
    "# [作業目標]\n",
    "- 仿造範例的MAE函數, 自己寫一個MSE函數(參考上面公式)"
   ]
  },
  {
   "cell_type": "markdown",
   "metadata": {},
   "source": [
    "# [作業重點]\n",
    "- 注意程式的縮排\n",
    "- 是否能將數學公式, 轉換為 Python 的函式組合? (In[2], Out[2])\n",
    "\n",
    "# [作業1_ANS]"
   ]
  },
  {
   "cell_type": "code",
   "execution_count": 2,
   "metadata": {},
   "outputs": [],
   "source": [
    "# 載入基礎套件與代稱\n",
    "import numpy as np\n",
    "import matplotlib.pyplot as plt"
   ]
  },
  {
   "cell_type": "code",
   "execution_count": 3,
   "metadata": {},
   "outputs": [],
   "source": [
    "def mean_absolute_error(y, yp):\n",
    "    \"\"\"\n",
    "    計算 MAE\n",
    "    Args:\n",
    "        - y: 實際值\n",
    "        - yp: 預測值\n",
    "    Return:\n",
    "        - mae: MAE\n",
    "    \"\"\"\n",
    "    mae = MAE = sum(abs(y - yp)) / len(y)\n",
    "    return mae\n",
    "\n",
    "# 定義 mean_squared_error 這個函數, 計算並傳回 MSE\n",
    "def mean_squared_error(y, yp):\n",
    "    \"\"\"\n",
    "    計算 MSE\n",
    "    Args:\n",
    "        - y:  實際值\n",
    "        - yp: 預測值\n",
    "    Return:\n",
    "        - mse: MSE\n",
    "    \"\"\"\n",
    "    mse = MSE = sum((y - yp)**2) / len(y)\n",
    "    return mse"
   ]
  },
  {
   "cell_type": "code",
   "execution_count": 4,
   "metadata": {},
   "outputs": [
    {
     "data": {
      "image/png": "[encoded data removed]",
      "text/plain": [
       "<Figure size 432x288 with 1 Axes>"
      ]
     },
     "metadata": {},
     "output_type": "display_data"
    }
   ],
   "source": [
    "# 與範例相同, 不另外解說\n",
    "w = 3\n",
    "b = 0.5\n",
    "x_lin = np.linspace(0, 100, 101)\n",
    "y = (x_lin + np.random.randn(101) * 5) * w + b\n",
    "\n",
    "plt.plot(x_lin, y, 'b.', label = 'data points')\n",
    "plt.title(\"Assume we have data points\")\n",
    "plt.legend(loc = 2)\n",
    "plt.show()"
   ]
  },
  {
   "cell_type": "code",
   "execution_count": 5,
   "metadata": {},
   "outputs": [
    {
     "data": {
      "image/png": "[encoded data removed]",
      "text/plain": [
       "<Figure size 432x288 with 1 Axes>"
      ]
     },
     "metadata": {},
     "output_type": "display_data"
    }
   ],
   "source": [
    "# 與範例相同, 不另外解說\n",
    "y_hat = x_lin * w + b\n",
    "plt.plot(x_lin, y, 'b.', label = 'data')\n",
    "plt.plot(x_lin, y_hat, 'r-', label = 'prediction')\n",
    "plt.title(\"Assume we have data points (And the prediction)\")\n",
    "plt.legend(loc = 2)\n",
    "plt.show()"
   ]
  },
  {
   "cell_type": "code",
   "execution_count": 6,
   "metadata": {},
   "outputs": [
    {
     "name": "stdout",
     "output_type": "stream",
     "text": [
      "The Mean squared error is 249.102\n",
      "The Mean absolute error is 12.100\n"
     ]
    }
   ],
   "source": [
    "# 執行 Function, 確認有沒有正常執行\n",
    "MSE = mean_squared_error(y, y_hat)\n",
    "MAE = mean_absolute_error(y, y_hat)\n",
    "print(\"The Mean squared error is %.3f\" % (MSE))\n",
    "print(\"The Mean absolute error is %.3f\" % (MAE))"
   ]
  },
  {
   "cell_type": "markdown",
   "metadata": {},
   "source": [
    "# [作業2]\n",
    "\n",
    "請上 Kaggle, 在 Competitions 或 Dataset 中找一組競賽或資料並寫下：\n",
    "\n",
    "1. 你選的這組資料為何重要\n",
    "\n",
    "2. 資料從何而來 (tips: 譬如提供者是誰、以什麼方式蒐集)\n",
    "\n",
    "3. 蒐集而來的資料型態為何\n",
    "\n",
    "4. 這組資料想解決的問題如何評估\n",
    "\n",
    "# [作業3]\n",
    "\n",
    "想像你經營一個自由載客車隊，你希望能透過數據分析以提升業績，請你思考並描述你如何規劃整體的分析/解決方案：\n",
    "\n",
    "1. 核心問題為何 (tips：如何定義 「提升業績 & 你的假設」)\n",
    "\n",
    "2. 資料從何而來 (tips：哪些資料可能會對你想問的問題產生影響 & 資料如何蒐集)\n",
    "\n",
    "3. 蒐集而來的資料型態為何\n",
    "\n",
    "4. 你要回答的問題，其如何評估 (tips：你的假設如何驗證)"
   ]
  },
  {
   "cell_type": "markdown",
   "metadata": {},
   "source": [
    "## [作業2_ANS]\n",
    "1. 我選擇ETF股票作為數據(US Stocks & ETFs - Tickers, Company Info, Logos)，因為ETF相對個股不容易受到外資所控制，可以當作存股標的\n",
    "2. Kaggle:https://www.kaggle.com/lp187q/ndxt-index-until-jan-202018\n",
    "數據來自Yahoo的財務網站\n",
    "3. 資料型態      "
   ]
  },
  {
   "cell_type": "code",
   "execution_count": 16,
   "metadata": {},
   "outputs": [
    {
     "data": {
      "text/html": [
       "<div>\n",
       "<style scoped>\n",
       "    .dataframe tbody tr th:only-of-type {\n",
       "        vertical-align: middle;\n",
       "    }\n",
       "\n",
       "    .dataframe tbody tr th {\n",
       "        vertical-align: top;\n",
       "    }\n",
       "\n",
       "    .dataframe thead th {\n",
       "        text-align: right;\n",
       "    }\n",
       "</style>\n",
       "<table border=\"1\" class=\"dataframe\">\n",
       "  <thead>\n",
       "    <tr style=\"text-align: right;\">\n",
       "      <th></th>\n",
       "      <th>Date</th>\n",
       "      <th>NDXT Open</th>\n",
       "      <th>NDXT High</th>\n",
       "      <th>NDXT Low</th>\n",
       "      <th>NDXT Close</th>\n",
       "      <th>NDXT Adj Close</th>\n",
       "      <th>NDXT Volume</th>\n",
       "    </tr>\n",
       "  </thead>\n",
       "  <tbody>\n",
       "    <tr>\n",
       "      <th>0</th>\n",
       "      <td>2/22/2006</td>\n",
       "      <td>1000.859985</td>\n",
       "      <td>1015.890015</td>\n",
       "      <td>996.919983</td>\n",
       "      <td>1012.979980</td>\n",
       "      <td>1012.979980</td>\n",
       "      <td>0.0</td>\n",
       "    </tr>\n",
       "    <tr>\n",
       "      <th>1</th>\n",
       "      <td>2/23/2006</td>\n",
       "      <td>1010.929993</td>\n",
       "      <td>1018.809998</td>\n",
       "      <td>1008.489990</td>\n",
       "      <td>1009.190002</td>\n",
       "      <td>1009.190002</td>\n",
       "      <td>0.0</td>\n",
       "    </tr>\n",
       "    <tr>\n",
       "      <th>2</th>\n",
       "      <td>2/24/2006</td>\n",
       "      <td>1008.989990</td>\n",
       "      <td>1014.909973</td>\n",
       "      <td>1006.609985</td>\n",
       "      <td>1012.070007</td>\n",
       "      <td>1012.070007</td>\n",
       "      <td>0.0</td>\n",
       "    </tr>\n",
       "    <tr>\n",
       "      <th>3</th>\n",
       "      <td>2/27/2006</td>\n",
       "      <td>1013.609985</td>\n",
       "      <td>1024.569946</td>\n",
       "      <td>1012.869995</td>\n",
       "      <td>1021.070007</td>\n",
       "      <td>1021.070007</td>\n",
       "      <td>0.0</td>\n",
       "    </tr>\n",
       "    <tr>\n",
       "      <th>4</th>\n",
       "      <td>2/28/2006</td>\n",
       "      <td>1019.169983</td>\n",
       "      <td>1024.339966</td>\n",
       "      <td>1006.909973</td>\n",
       "      <td>1009.840027</td>\n",
       "      <td>1009.840027</td>\n",
       "      <td>0.0</td>\n",
       "    </tr>\n",
       "  </tbody>\n",
       "</table>\n",
       "</div>"
      ],
      "text/plain": [
       "        Date    NDXT Open    NDXT High     NDXT Low   NDXT Close  \\\n",
       "0  2/22/2006  1000.859985  1015.890015   996.919983  1012.979980   \n",
       "1  2/23/2006  1010.929993  1018.809998  1008.489990  1009.190002   \n",
       "2  2/24/2006  1008.989990  1014.909973  1006.609985  1012.070007   \n",
       "3  2/27/2006  1013.609985  1024.569946  1012.869995  1021.070007   \n",
       "4  2/28/2006  1019.169983  1024.339966  1006.909973  1009.840027   \n",
       "\n",
       "   NDXT Adj Close  NDXT Volume  \n",
       "0     1012.979980          0.0  \n",
       "1     1009.190002          0.0  \n",
       "2     1012.070007          0.0  \n",
       "3     1021.070007          0.0  \n",
       "4     1009.840027          0.0  "
      ]
     },
     "execution_count": 16,
     "metadata": {},
     "output_type": "execute_result"
    }
   ],
   "source": [
    "import numpy as np\n",
    "import pandas as pd\n",
    "\n",
    "data = pd.read_csv(\"Jan20_NDXT.csv\")\n",
    "data.head()"
   ]
  },
  {
   "cell_type": "code",
   "execution_count": 13,
   "metadata": {},
   "outputs": [
    {
     "name": "stdout",
     "output_type": "stream",
     "text": [
      "<class 'pandas.core.frame.DataFrame'>\n",
      "RangeIndex: 2999 entries, 0 to 2998\n",
      "Data columns (total 7 columns):\n",
      "Date              2999 non-null object\n",
      "NDXT Open         2996 non-null float64\n",
      "NDXT High         2996 non-null float64\n",
      "NDXT Low          2996 non-null float64\n",
      "NDXT Close        2996 non-null float64\n",
      "NDXT Adj Close    2996 non-null float64\n",
      "NDXT Volume       2996 non-null float64\n",
      "dtypes: float64(6), object(1)\n",
      "memory usage: 164.1+ KB\n"
     ]
    }
   ],
   "source": [
    "data.info()"
   ]
  },
  {
   "cell_type": "code",
   "execution_count": 14,
   "metadata": {},
   "outputs": [
    {
     "data": {
      "text/html": [
       "<div>\n",
       "<style scoped>\n",
       "    .dataframe tbody tr th:only-of-type {\n",
       "        vertical-align: middle;\n",
       "    }\n",
       "\n",
       "    .dataframe tbody tr th {\n",
       "        vertical-align: top;\n",
       "    }\n",
       "\n",
       "    .dataframe thead th {\n",
       "        text-align: right;\n",
       "    }\n",
       "</style>\n",
       "<table border=\"1\" class=\"dataframe\">\n",
       "  <thead>\n",
       "    <tr style=\"text-align: right;\">\n",
       "      <th></th>\n",
       "      <th>NDXT Open</th>\n",
       "      <th>NDXT High</th>\n",
       "      <th>NDXT Low</th>\n",
       "      <th>NDXT Close</th>\n",
       "      <th>NDXT Adj Close</th>\n",
       "      <th>NDXT Volume</th>\n",
       "    </tr>\n",
       "  </thead>\n",
       "  <tbody>\n",
       "    <tr>\n",
       "      <th>count</th>\n",
       "      <td>2996.000000</td>\n",
       "      <td>2996.000000</td>\n",
       "      <td>2996.000000</td>\n",
       "      <td>2996.000000</td>\n",
       "      <td>2996.000000</td>\n",
       "      <td>2996.0</td>\n",
       "    </tr>\n",
       "    <tr>\n",
       "      <th>mean</th>\n",
       "      <td>1681.090972</td>\n",
       "      <td>1692.564566</td>\n",
       "      <td>1668.964546</td>\n",
       "      <td>1681.775694</td>\n",
       "      <td>1681.775694</td>\n",
       "      <td>0.0</td>\n",
       "    </tr>\n",
       "    <tr>\n",
       "      <th>std</th>\n",
       "      <td>791.414398</td>\n",
       "      <td>793.365083</td>\n",
       "      <td>788.929549</td>\n",
       "      <td>791.901506</td>\n",
       "      <td>791.901506</td>\n",
       "      <td>0.0</td>\n",
       "    </tr>\n",
       "    <tr>\n",
       "      <th>min</th>\n",
       "      <td>535.960022</td>\n",
       "      <td>552.580017</td>\n",
       "      <td>516.219971</td>\n",
       "      <td>525.919983</td>\n",
       "      <td>525.919983</td>\n",
       "      <td>0.0</td>\n",
       "    </tr>\n",
       "    <tr>\n",
       "      <th>25%</th>\n",
       "      <td>1098.930024</td>\n",
       "      <td>1106.707489</td>\n",
       "      <td>1088.287476</td>\n",
       "      <td>1098.574982</td>\n",
       "      <td>1098.574982</td>\n",
       "      <td>0.0</td>\n",
       "    </tr>\n",
       "    <tr>\n",
       "      <th>50%</th>\n",
       "      <td>1396.375000</td>\n",
       "      <td>1405.834961</td>\n",
       "      <td>1387.830017</td>\n",
       "      <td>1397.380005</td>\n",
       "      <td>1397.380005</td>\n",
       "      <td>0.0</td>\n",
       "    </tr>\n",
       "    <tr>\n",
       "      <th>75%</th>\n",
       "      <td>2218.097595</td>\n",
       "      <td>2231.672485</td>\n",
       "      <td>2206.552491</td>\n",
       "      <td>2218.407471</td>\n",
       "      <td>2218.407471</td>\n",
       "      <td>0.0</td>\n",
       "    </tr>\n",
       "    <tr>\n",
       "      <th>max</th>\n",
       "      <td>4223.399902</td>\n",
       "      <td>4229.700195</td>\n",
       "      <td>4203.660156</td>\n",
       "      <td>4227.680176</td>\n",
       "      <td>4227.680176</td>\n",
       "      <td>0.0</td>\n",
       "    </tr>\n",
       "  </tbody>\n",
       "</table>\n",
       "</div>"
      ],
      "text/plain": [
       "         NDXT Open    NDXT High     NDXT Low   NDXT Close  NDXT Adj Close  \\\n",
       "count  2996.000000  2996.000000  2996.000000  2996.000000     2996.000000   \n",
       "mean   1681.090972  1692.564566  1668.964546  1681.775694     1681.775694   \n",
       "std     791.414398   793.365083   788.929549   791.901506      791.901506   \n",
       "min     535.960022   552.580017   516.219971   525.919983      525.919983   \n",
       "25%    1098.930024  1106.707489  1088.287476  1098.574982     1098.574982   \n",
       "50%    1396.375000  1405.834961  1387.830017  1397.380005     1397.380005   \n",
       "75%    2218.097595  2231.672485  2206.552491  2218.407471     2218.407471   \n",
       "max    4223.399902  4229.700195  4203.660156  4227.680176     4227.680176   \n",
       "\n",
       "       NDXT Volume  \n",
       "count       2996.0  \n",
       "mean           0.0  \n",
       "std            0.0  \n",
       "min            0.0  \n",
       "25%            0.0  \n",
       "50%            0.0  \n",
       "75%            0.0  \n",
       "max            0.0  "
      ]
     },
     "execution_count": 14,
     "metadata": {},
     "output_type": "execute_result"
    }
   ],
   "source": [
    "data.describe()"
   ]
  },
  {
   "cell_type": "markdown",
   "metadata": {},
   "source": [
    "4. 想要證明指數的波動型與ETF成長方式是否有關連性\n",
    "而數據只有日期可以作為一種判斷的依據，為何會影響股價的波動，因為每個時間點都會有一些新聞或消息來影響整體股價的走勢"
   ]
  },
  {
   "cell_type": "markdown",
   "metadata": {},
   "source": [
    "## [作業3_ANS]\n",
    "1. 時間、車輛總數、載客技術、車上設備、乘車品質\n",
    "若載客技術可以產生一整套遊山玩水的行程路線，可以吸引一些觀光客或是朋友相聚的包車選擇，搭配不同時間點有不同的行程計畫，或是以客製化的方式，\n",
    "提供消費者做選擇。若是像uber一樣，車子是由司機提供，就只需要增加總人數，在事後做調整就可以應付各種狀況。設備和品質都是需要經過認證跟訓練。\n",
    "2. 可以找集團式的車隊進行溝通，看能否取得資料並協助他們做商業上的優化\n",
    "3.  時間:查看每一個時間點有多少為載客的車輛(Numeric) \n",
    "    車輛總數:Numeric \n",
    "    載客技術:以Level做區分(1-5) \n",
    "    車上設備:以Level做區分(1-5) \n",
    "    乘車品質:以Level做區分(1-5)\n",
    "4. 以Uber為例，可以用app請乘客做問卷回饋"
   ]
  },
  {
   "cell_type": "code",
   "execution_count": null,
   "metadata": {},
   "outputs": [],
   "source": []
  }
 ],
 "metadata": {
  "anaconda-cloud": {},
  "kernelspec": {
   "display_name": "Python 3",
   "language": "python",
   "name": "python3"
  },
  "language_info": {
   "codemirror_mode": {
    "name": "ipython",
    "version": 3
   },
   "file_extension": ".py",
   "mimetype": "text/x-python",
   "name": "python",
   "nbconvert_exporter": "python",
   "pygments_lexer": "ipython3",
   "version": "3.6.5"
  }
 },
 "nbformat": 4,
 "nbformat_minor": 1
}
